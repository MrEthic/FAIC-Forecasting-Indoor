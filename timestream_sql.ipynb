{
 "cells": [
  {
   "cell_type": "markdown",
   "metadata": {},
   "source": [
    "# Query Timestream using Timestream SQL"
   ]
  },
  {
   "cell_type": "markdown",
   "metadata": {},
   "source": [
    "You will need boto3 in order to query the table, install it in your environement using `pip install boto3` or `conda install boto3`."
   ]
  },
  {
   "cell_type": "code",
   "execution_count": 1,
   "metadata": {},
   "outputs": [],
   "source": [
    "import boto3\n",
    "import pandas as pd"
   ]
  },
  {
   "cell_type": "markdown",
   "metadata": {},
   "source": [
    "## Boto3 Initialization\n",
    "1. Open a boto3 Session in the region of your Timestream database\n",
    "2. Open a timestream-query client\n",
    "\n",
    "### Credentials\n",
    "In order to connect to the table, you need to give boto3 some aws credentials. Please refere to the [boto3 documentation](https://boto3.amazonaws.com/v1/documentation/api/latest/guide/credentials.html) for detailed explication.\n",
    "\n",
    "If you want to hard coded credentials use :\n",
    "```python\n",
    "ts_query = session.client(\n",
    "    \"timestream-query\"\n",
    "    aws_access_key_id=ACCESS_KEY,\n",
    "    aws_secret_access_key=SECRET_KEY,\n",
    ")\n",
    "```\n",
    "\n",
    "AWS Documentation says:\n",
    ">Warning\n",
    "\n",
    "\n",
    ">ACCESS_KEY, SECRET_KEY, and SESSION_TOKEN are variables that contain your access key, secret key, and optional session token. Note that the examples above do not have hard coded credentials. We do not recommend hard coding credentials in your source code.\n"
   ]
  },
  {
   "cell_type": "code",
   "execution_count": 2,
   "metadata": {},
   "outputs": [],
   "source": [
    "REGION = \"ap-southeast-2\"\n",
    "session = boto3.Session(region_name=REGION)\n",
    "ts_query = session.client(\"timestream-query\")"
   ]
  },
  {
   "cell_type": "markdown",
   "metadata": {},
   "source": [
    "## Query deifinition\n",
    "Build a query following the timestream synthax (extended SQL). Timestream doesn't support parametized queries so be careful with user inputs."
   ]
  },
  {
   "cell_type": "code",
   "execution_count": 97,
   "metadata": {},
   "outputs": [],
   "source": [
    "QUERY_1 = \"\"\"\n",
    "SELECT \n",
    "  time,\n",
    "  deviceId,\n",
    "  measure_value::double AS temperature\n",
    "FROM \"ProjectTable-brewai-sensor-iaq-dev\".\"brewai_api\"\n",
    "WHERE\n",
    "  measure_name='temperature'\n",
    "  AND time between ago(1h) and now()\n",
    "ORDER BY time DESC\n",
    "\"\"\""
   ]
  },
  {
   "cell_type": "code",
   "execution_count": 98,
   "metadata": {},
   "outputs": [],
   "source": [
    "database_name = \"ProjectTable-brewai-sensor-iaq-dev\"\n",
    "table_name = \"brewai_api\"\n",
    "metric = \"co2\"\n",
    "time_filter = \"time between ago(15m) and now()\"\n",
    "\n",
    "QUERY_2 = f\"\"\"\n",
    "SELECT \n",
    "  time,\n",
    "  deviceId,\n",
    "  measure_value::double AS {metric}\n",
    "FROM \"{database_name}\".\"{table_name}\"\n",
    "WHERE\n",
    "  measure_name='{metric}'\n",
    "  AND {time_filter}\n",
    "ORDER BY time DESC\n",
    "\"\"\""
   ]
  },
  {
   "cell_type": "markdown",
   "metadata": {},
   "source": [
    "## Runing a query\n",
    "Run the query using `query`. Timestream doesn't support timezone, all times are UTC time."
   ]
  },
  {
   "cell_type": "code",
   "execution_count": 143,
   "metadata": {},
   "outputs": [],
   "source": [
    "response = ts_query.query(\n",
    "    QueryString=QUERY_1\n",
    ")"
   ]
  },
  {
   "cell_type": "markdown",
   "metadata": {},
   "source": [
    "You can extract column name and type from the response dictionary:"
   ]
  },
  {
   "cell_type": "code",
   "execution_count": 100,
   "metadata": {},
   "outputs": [],
   "source": [
    "columns_name = [col['Name'] for col in response[\"ColumnInfo\"]]\n",
    "columns_type = [col[\"Type\"]['ScalarType'] for col in response[\"ColumnInfo\"]]"
   ]
  },
  {
   "cell_type": "code",
   "execution_count": 101,
   "metadata": {},
   "outputs": [
    {
     "data": {
      "text/plain": [
       "(['time', 'deviceId', 'temperature'], ['TIMESTAMP', 'VARCHAR', 'DOUBLE'])"
      ]
     },
     "execution_count": 101,
     "metadata": {},
     "output_type": "execute_result"
    }
   ],
   "source": [
    "columns_name, columns_type"
   ]
  },
  {
   "cell_type": "markdown",
   "metadata": {},
   "source": [
    "Parse the response dictionary into rows:"
   ]
  },
  {
   "cell_type": "code",
   "execution_count": 102,
   "metadata": {},
   "outputs": [],
   "source": [
    "rows = [row[\"Data\"] for row in response[\"Rows\"]]"
   ]
  },
  {
   "cell_type": "code",
   "execution_count": 103,
   "metadata": {},
   "outputs": [],
   "source": [
    "rows_list = [[next(iter(el.values())) for el in row] for row in rows]"
   ]
  },
  {
   "cell_type": "markdown",
   "metadata": {},
   "source": [
    "## DataFrame\n",
    "You can create a pandas DataFrame from the `rows_list`, be aware that all columns will be strings upon creation."
   ]
  },
  {
   "cell_type": "code",
   "execution_count": 104,
   "metadata": {},
   "outputs": [],
   "source": [
    "df = pd.DataFrame(rows_list, columns=columns_name)"
   ]
  },
  {
   "cell_type": "code",
   "execution_count": 105,
   "metadata": {},
   "outputs": [
    {
     "data": {
      "text/html": [
       "<div>\n",
       "<style scoped>\n",
       "    .dataframe tbody tr th:only-of-type {\n",
       "        vertical-align: middle;\n",
       "    }\n",
       "\n",
       "    .dataframe tbody tr th {\n",
       "        vertical-align: top;\n",
       "    }\n",
       "\n",
       "    .dataframe thead th {\n",
       "        text-align: right;\n",
       "    }\n",
       "</style>\n",
       "<table border=\"1\" class=\"dataframe\">\n",
       "  <thead>\n",
       "    <tr style=\"text-align: right;\">\n",
       "      <th></th>\n",
       "      <th>time</th>\n",
       "      <th>deviceId</th>\n",
       "      <th>temperature</th>\n",
       "    </tr>\n",
       "  </thead>\n",
       "  <tbody>\n",
       "    <tr>\n",
       "      <th>0</th>\n",
       "      <td>2022-11-08 06:31:23.000000000</td>\n",
       "      <td>7BB92D02D696C5C5</td>\n",
       "      <td>25.448545455932617</td>\n",
       "    </tr>\n",
       "    <tr>\n",
       "      <th>1</th>\n",
       "      <td>2022-11-08 06:31:16.000000000</td>\n",
       "      <td>E7184ABA7A055FD1</td>\n",
       "      <td>25.01620101928711</td>\n",
       "    </tr>\n",
       "    <tr>\n",
       "      <th>2</th>\n",
       "      <td>2022-11-08 06:31:06.000000000</td>\n",
       "      <td>B84C4503F361D64A</td>\n",
       "      <td>24.860153198242188</td>\n",
       "    </tr>\n",
       "    <tr>\n",
       "      <th>3</th>\n",
       "      <td>2022-11-08 06:30:59.000000000</td>\n",
       "      <td>99DD33EFB7990A71</td>\n",
       "      <td>23.241329193115234</td>\n",
       "    </tr>\n",
       "    <tr>\n",
       "      <th>4</th>\n",
       "      <td>2022-11-08 06:30:55.000000000</td>\n",
       "      <td>1DA36D3BE34D559A</td>\n",
       "      <td>25.282428741455078</td>\n",
       "    </tr>\n",
       "  </tbody>\n",
       "</table>\n",
       "</div>"
      ],
      "text/plain": [
       "                            time          deviceId         temperature\n",
       "0  2022-11-08 06:31:23.000000000  7BB92D02D696C5C5  25.448545455932617\n",
       "1  2022-11-08 06:31:16.000000000  E7184ABA7A055FD1   25.01620101928711\n",
       "2  2022-11-08 06:31:06.000000000  B84C4503F361D64A  24.860153198242188\n",
       "3  2022-11-08 06:30:59.000000000  99DD33EFB7990A71  23.241329193115234\n",
       "4  2022-11-08 06:30:55.000000000  1DA36D3BE34D559A  25.282428741455078"
      ]
     },
     "execution_count": 105,
     "metadata": {},
     "output_type": "execute_result"
    }
   ],
   "source": [
    "df.head()"
   ]
  },
  {
   "cell_type": "markdown",
   "metadata": {},
   "source": [
    "You can convert the type of the columns."
   ]
  },
  {
   "cell_type": "code",
   "execution_count": 122,
   "metadata": {},
   "outputs": [],
   "source": [
    "df = df.astype({\"temperature\": \"float64\", \"deviceId\": \"str\"})"
   ]
  },
  {
   "cell_type": "code",
   "execution_count": 123,
   "metadata": {},
   "outputs": [],
   "source": [
    "df.time = pd.to_datetime(df.time)"
   ]
  },
  {
   "cell_type": "markdown",
   "metadata": {},
   "source": [
    "Set timezone."
   ]
  },
  {
   "cell_type": "code",
   "execution_count": 136,
   "metadata": {},
   "outputs": [],
   "source": [
    "df.time = df.time.dt.tz_localize('UTC').dt.tz_convert('Australia/ACT')"
   ]
  },
  {
   "cell_type": "code",
   "execution_count": 137,
   "metadata": {},
   "outputs": [
    {
     "data": {
      "text/html": [
       "<div>\n",
       "<style scoped>\n",
       "    .dataframe tbody tr th:only-of-type {\n",
       "        vertical-align: middle;\n",
       "    }\n",
       "\n",
       "    .dataframe tbody tr th {\n",
       "        vertical-align: top;\n",
       "    }\n",
       "\n",
       "    .dataframe thead th {\n",
       "        text-align: right;\n",
       "    }\n",
       "</style>\n",
       "<table border=\"1\" class=\"dataframe\">\n",
       "  <thead>\n",
       "    <tr style=\"text-align: right;\">\n",
       "      <th></th>\n",
       "      <th>time</th>\n",
       "      <th>deviceId</th>\n",
       "      <th>temperature</th>\n",
       "    </tr>\n",
       "  </thead>\n",
       "  <tbody>\n",
       "    <tr>\n",
       "      <th>0</th>\n",
       "      <td>2022-11-08 17:31:23+11:00</td>\n",
       "      <td>7BB92D02D696C5C5</td>\n",
       "      <td>25.448545</td>\n",
       "    </tr>\n",
       "    <tr>\n",
       "      <th>1</th>\n",
       "      <td>2022-11-08 17:31:16+11:00</td>\n",
       "      <td>E7184ABA7A055FD1</td>\n",
       "      <td>25.016201</td>\n",
       "    </tr>\n",
       "    <tr>\n",
       "      <th>2</th>\n",
       "      <td>2022-11-08 17:31:06+11:00</td>\n",
       "      <td>B84C4503F361D64A</td>\n",
       "      <td>24.860153</td>\n",
       "    </tr>\n",
       "    <tr>\n",
       "      <th>3</th>\n",
       "      <td>2022-11-08 17:30:59+11:00</td>\n",
       "      <td>99DD33EFB7990A71</td>\n",
       "      <td>23.241329</td>\n",
       "    </tr>\n",
       "    <tr>\n",
       "      <th>4</th>\n",
       "      <td>2022-11-08 17:30:55+11:00</td>\n",
       "      <td>1DA36D3BE34D559A</td>\n",
       "      <td>25.282429</td>\n",
       "    </tr>\n",
       "  </tbody>\n",
       "</table>\n",
       "</div>"
      ],
      "text/plain": [
       "                       time          deviceId  temperature\n",
       "0 2022-11-08 17:31:23+11:00  7BB92D02D696C5C5    25.448545\n",
       "1 2022-11-08 17:31:16+11:00  E7184ABA7A055FD1    25.016201\n",
       "2 2022-11-08 17:31:06+11:00  B84C4503F361D64A    24.860153\n",
       "3 2022-11-08 17:30:59+11:00  99DD33EFB7990A71    23.241329\n",
       "4 2022-11-08 17:30:55+11:00  1DA36D3BE34D559A    25.282429"
      ]
     },
     "execution_count": 137,
     "metadata": {},
     "output_type": "execute_result"
    }
   ],
   "source": [
    "df.head()"
   ]
  },
  {
   "cell_type": "markdown",
   "metadata": {},
   "source": [
    "## Simple ploting"
   ]
  },
  {
   "cell_type": "code",
   "execution_count": 133,
   "metadata": {},
   "outputs": [],
   "source": [
    "import seaborn as sns\n",
    "sns.set(rc={'figure.figsize':(10,5)})"
   ]
  },
  {
   "cell_type": "code",
   "execution_count": 138,
   "metadata": {},
   "outputs": [
    {
     "data": {
      "text/plain": [
       "<AxesSubplot: xlabel='time', ylabel='temperature'>"
      ]
     },
     "execution_count": 138,
     "metadata": {},
     "output_type": "execute_result"
    },
    {
     "data": {
      "image/png": "[encoded data removed]",
      "text/plain": [
       "<Figure size 1000x500 with 1 Axes>"
      ]
     },
     "metadata": {},
     "output_type": "display_data"
    }
   ],
   "source": [
    "sns.lineplot(df, x='time', y='temperature', hue='deviceId')"
   ]
  },
  {
   "cell_type": "code",
   "execution_count": null,
   "metadata": {},
   "outputs": [],
   "source": []
  }
 ],
 "metadata": {
  "kernelspec": {
   "display_name": "Python 3.10.4 ('venv': venv)",
   "language": "python",
   "name": "python3"
  },
  "language_info": {
   "codemirror_mode": {
    "name": "ipython",
    "version": 3
   },
   "file_extension": ".py",
   "mimetype": "text/x-python",
   "name": "python",
   "nbconvert_exporter": "python",
   "pygments_lexer": "ipython3",
   "version": "3.10.4"
  },
  "orig_nbformat": 4,
  "vscode": {
   "interpreter": {
    "hash": "4050f9686abf1246cf601aac195d2b060e623e3cd58cd405239d502df97611e7"
   }
  }
 },
 "nbformat": 4,
 "nbformat_minor": 2
}
